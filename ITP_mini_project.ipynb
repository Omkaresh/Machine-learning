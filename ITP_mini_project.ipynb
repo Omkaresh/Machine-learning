{
 "cells": [
  {
   "cell_type": "markdown",
   "metadata": {},
   "source": [
    "# <center>PGP Data Science Engineering</center>\n",
    "## <center>Introduction to Programming – Mini Project:</center>\n"
   ]
  },
  {
   "cell_type": "markdown",
   "metadata": {},
   "source": [
    "### Problem 1:\n",
    "\n",
    "1. Write a program to calculate area of shapes. Your program should be capable of calculating the area of a square, rectangle, triangle and a circle. The user should be presented with options to select the shape. Based on which shape is chosed by the user, the program should ask for the appropriate input and print the resulting area on the screen.\n",
    "\n",
    "When the program is run, the screen should display something like this:\n",
    "\n",
    "**Which shape would you like to calculate the area for? Please enter the option number-**<br>\n",
    "**1. Square**<br>\n",
    "**2. Rectangle**<br>\n",
    "**3. Triangle**<br>\n",
    "**4. Circle**<br>\n",
    "**Enter Option: _**\n",
    "\n",
    "Say the user enters the option 1.\n",
    "\n",
    "**Please enter the length of a side: _**\n",
    "\n",
    "If the user enters a value of 5. The output should be:\n",
    "\n",
    "**The area of the square is 25**\n",
    "\n",
    "This program should indicate that the input is invalid if the user enters a character instead of a number as input. For instance if the user enters a value of ‘a’ instead of 5 in the previous example the program should prompt:\n",
    "\n",
    "**Invalid input, please enter a number: _**\n"
   ]
  },
  {
   "cell_type": "code",
   "execution_count": 3,
   "metadata": {},
   "outputs": [
    {
     "name": "stdout",
     "output_type": "stream",
     "text": [
      "Which shape would you like to calculate the area for? Please enter the option number- \n",
      " 1. Square \n",
      " 2. Rectangle  \n",
      " 3. Triangle \n",
      " 4. Circle1\n",
      "Enter the side of square2\n",
      "Area of square is  4\n"
     ]
    }
   ],
   "source": [
    " def herons(a,b,c):\n",
    "    import math\n",
    "    side1=5\n",
    "    side2=6\n",
    "    side3=7\n",
    "    s=(side1+side2+side3)/2    #Semi perimeter\n",
    "\n",
    "    area=math.sqrt(s*(s-side1)*(s-side2)*(s-side3))\n",
    "    print(\"Area of triangle is \", area)\n",
    "\n",
    "    \n",
    "def square(a):\n",
    "    print(\"Area of square is \",a*a)\n",
    "def circle(r):\n",
    "    print(\"Area is \",3.14*r*r)\n",
    "def rectangle(a,b):\n",
    "    print(\"Area is \",a*b)\n",
    "def triangle(a,b,c):\n",
    "    herons(a,b,c)\n",
    "\n",
    "sel=int(input('Which shape would you like to calculate the area for? Please enter the option number- \\n 1. Square \\n 2. Rectangle  \\n 3. Triangle \\n 4. Circle'))\n",
    "if( sel == 1 or sel==2 or sel==3 or sel==4  ):\n",
    "    if sel==1:\n",
    "        a=int(input('Enter the side of square'))\n",
    "        square(a)\n",
    "    elif sel==2:\n",
    "        a=int(input('Enter the 1st sides of rectangle'))\n",
    "        b=int(input('Enter the 2nd sides of rectangle'))\n",
    "        rectangle(a,b)\n",
    "    elif sel==3:\n",
    "        a=int(input('Enter the sides of triangle'))\n",
    "        b=int(input('Enter the sides of triangle'))\n",
    "        \n",
    "        c=int(input('Enter the sides of triangle'))\n",
    "        triangle(a,b,c)\n",
    "    elif sel==4:\n",
    "        a=int(input('Enter the radius of circle'))\n",
    "        circle(a)\n",
    "    \n",
    "else:\n",
    "    print(\"Invalid input\")\n",
    "    \n",
    "\n",
    "              \n",
    "\n",
    "        "
   ]
  },
  {
   "cell_type": "markdown",
   "metadata": {},
   "source": [
    "### Problem 2:\n",
    "\n",
    "Create and encrypter in python based on the ceaser cipher. It is a substitution cipher where each character of the original text is shifted a certain number characters in the alphabet. Write a function that would require 2 arguments – the input text to be encrypted and a key. For eg: Given the input text ‘hello’ and the key 3, the resulting encryted text would be ‘khoor’. Here you can see that every character in the string hello is shifted by 3 characters. ‘h’ has shifted to ‘k’, ‘e’ has shifted to ‘h’ and so on. If a key of 5 were used, the resulting string would be ‘mjqqt’. This function should be capable of ignoring any characters which are not alphabets. Th2 character ‘z’ entered b\n",
    "y the user for a key of 3 would result in ‘c’.\n",
    "\n",
    "Usage:<br>\n",
    "**encrypt(‘hello world!’, 3)**<br>\n",
    "**‘khoor zruog!’**\n",
    "\n",
    "Similarly create decrypter which can decode the encryted text when provided the input text and key\n",
    "\n",
    "9Usage:<br>\n",
    "**decrypt(‘khoor zruog!’, 3)**<br>\n",
    "**‘hello world!’**\n",
    "\n",
    "For the sake of simplicity you can assume that input solely consists of lowercase alphabets, spaces and punctuation symbols. Numbers in the input text would also be ignored similar to symbols."
   ]
  },
  {
   "cell_type": "code",
   "execution_count": null,
   "metadata": {},
   "outputs": [],
   "source": []
  },
  {
   "cell_type": "code",
   "execution_count": 4,
   "metadata": {},
   "outputs": [
    {
     "name": "stdout",
     "output_type": "stream",
     "text": [
      "Encrypted is  khoor zruog!\n",
      "Decrypted is  hello world!\n",
      "Enter string:-zello xorld\n",
      "Enter the key:-3\n",
      "Encrypted is  choor aruog\n",
      "Decrypted is  zello xorld\n"
     ]
    }
   ],
   "source": [
    "def encrypt(s,key):\n",
    "   \n",
    "    p=\"\"\n",
    "    \n",
    "        #Checcking for special characters and ignoring them \n",
    "    for i in s:\n",
    "        if i in c:\n",
    "            p=p+i\n",
    "        else:\n",
    "            if(i==\" \"):\n",
    "                p=p+\" \"\n",
    "        \n",
    "            else:\n",
    "                if(ord(i)+key<=122):        #Checking if addition of key would result in character  more than z\n",
    "\n",
    "                    i=chr(ord(i)+key)\n",
    "                    p=p+i\n",
    "\n",
    "                else:\n",
    "\n",
    "                    i=chr(97+ ord(i)+key-123)\n",
    "                    p=p+i\n",
    "       \n",
    "    return p\n",
    " \n",
    "def decrypt(s,key):\n",
    "   \n",
    "    p=\"\"\n",
    "    \n",
    "    c={'!','@','#','$','%','^','&','*','(',')','_','='}\n",
    "    for i in s:\n",
    "        if i in c:\n",
    "            p=p+i\n",
    "        else:\n",
    "            if(i==\" \"):\n",
    "                p=p+\" \"\n",
    "            else:\n",
    "                if(ord(i)-key>=97):\n",
    "\n",
    "                    i=chr(ord(i)-key)\n",
    "                    p=p+i\n",
    "\n",
    "                else:\n",
    "\n",
    "                    i=chr(122-(-ord(i)+key+96))\n",
    "                    p=p+i\n",
    "\n",
    "        \n",
    "    return p\n",
    "    \n",
    "    \n",
    "    \n",
    "    \n",
    "e=encrypt(\"hello world!\",3)\n",
    "print(\"Encrypted is \",e)\n",
    "d=decrypt(e,3)\n",
    "print(\"Decrypted is \",d)\n",
    "\n",
    "s=input(\"Enter string:-\")\n",
    "key= int(input('Enter the key:-'))\n",
    "e=encrypt(s,key)\n",
    "\n",
    "\n",
    "print(\"Encrypted is \",e)\n",
    "d=decrypt(e,key)\n",
    "print(\"Decrypted is \",d)"
   ]
  },
  {
   "cell_type": "code",
   "execution_count": 4,
   "metadata": {},
   "outputs": [
    {
     "data": {
      "text/plain": [
       "49"
      ]
     },
     "execution_count": 4,
     "metadata": {},
     "output_type": "execute_result"
    }
   ],
   "source": [
    "ord('1')"
   ]
  },
  {
   "cell_type": "code",
   "execution_count": null,
   "metadata": {},
   "outputs": [],
   "source": [
    "\n",
    "          "
   ]
  },
  {
   "cell_type": "code",
   "execution_count": null,
   "metadata": {},
   "outputs": [],
   "source": []
  },
  {
   "cell_type": "code",
   "execution_count": null,
   "metadata": {},
   "outputs": [],
   "source": []
  },
  {
   "cell_type": "code",
   "execution_count": 1,
   "metadata": {},
   "outputs": [
    {
     "name": "stdout",
     "output_type": "stream",
     "text": [
      "Encrypted is  khoor zruog!\n",
      "Decrypted is  hello world!\n",
      "Enter string:-jhauwh hduahhw\n",
      "Enter the key:-3\n",
      "Encrypted is  mkdxzk kgxdkkz\n",
      "Decrypted is  jhauwh hduahhw\n"
     ]
    }
   ],
   "source": []
  },
  {
   "cell_type": "code",
   "execution_count": null,
   "metadata": {},
   "outputs": [],
   "source": []
  }
 ],
 "metadata": {
  "kernelspec": {
   "display_name": "Python [conda env:root] *",
   "language": "python",
   "name": "conda-root-py"
  },
  "language_info": {
   "codemirror_mode": {
    "name": "ipython",
    "version": 3
   },
   "file_extension": ".py",
   "mimetype": "text/x-python",
   "name": "python",
   "nbconvert_exporter": "python",
   "pygments_lexer": "ipython3",
   "version": "3.7.4"
  }
 },
 "nbformat": 4,
 "nbformat_minor": 2
}
